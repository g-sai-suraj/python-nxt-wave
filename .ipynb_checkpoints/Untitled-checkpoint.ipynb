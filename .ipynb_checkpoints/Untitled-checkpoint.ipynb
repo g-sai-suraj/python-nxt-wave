{
 "cells": [
  {
   "cell_type": "code",
   "execution_count": null,
   "id": "989ba412-2a19-44fd-8ba6-0ee78c3f0914",
   "metadata": {},
   "outputs": [],
   "source": []
  }
 ],
 "metadata": {
  "kernelspec": {
   "display_name": "Python 3 (ipykernel)",
   "language": "python",
   "name": "python3"
  },
  "language_info": {
   "name": ""
  }
 },
 "nbformat": 4,
 "nbformat_minor": 5
}
