{
 "cells": [
  {
   "cell_type": "code",
   "execution_count": 1,
   "id": "529ec947",
   "metadata": {},
   "outputs": [],
   "source": [
    "## Programming Termninogology\n"
   ]
  },
  {
   "cell_type": "code",
   "execution_count": null,
   "id": "8fe4e0ad",
   "metadata": {},
   "outputs": [],
   "source": [
    "name = input(\"Enter you name :: \")\n",
    "if name == \"suraj\":\n",
    "    print(\"Hi!\")\n",
    "    number = 2"
   ]
  }
 ],
 "metadata": {
  "kernelspec": {
   "display_name": "base",
   "language": "python",
   "name": "python3"
  },
  "language_info": {
   "codemirror_mode": {
    "name": "ipython",
    "version": 3
   },
   "file_extension": ".py",
   "mimetype": "text/x-python",
   "name": "python",
   "nbconvert_exporter": "python",
   "pygments_lexer": "ipython3",
   "version": "3.12.7"
  }
 },
 "nbformat": 4,
 "nbformat_minor": 5
}
