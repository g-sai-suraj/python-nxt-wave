print("Hello World")


print(2 + 3)


print(6 / 2)
print((int)(6 / 2))


print("2 + 3 = 5")


print("Hello World")
print(" ")
print("Hello")


#variables and data types


# Integer
# Float
# String
# Boolean

a = 10
b = 1.0
c = "1.0"
d = True
print(a)
print(b)
print(c)
print(d)


age = 10
print(age)
############
age = 10
print("age")
###########



print(age)
age = 30
print(age)


a = 10
b = 20
a = b + 1
print(a)
print(b)


# Strings ( Concatenation )
a = 1 + 2
print(a)
a = "1" + "2"
print(a)
a = "Hello " + " " + "World"
print(a)


# input statement


username = input("name : ")
age = input("age : ")
print(f"{username} is {age}-years old.")


# String Indexes 


username = "Suraj"[0]
print(username);
# print(username[5])
#IndexError: string index out of range


a = 10
b = "igate"
print(a,b)


def myfunc():
    global x
    x = "fantatstic"

myfunc()
print("Python is "+x)


age = int(input("How old are you ? :: "))

if age > 17 :
    print("You are of age!")
    print("Here's a copy of GTA6 for you.")

print("Next customer, please!")


temp = float(input("Please type in a temperature(F) : "))
c = (f - 32) * 5 / 9
print(f" {temp} F to {c} C")



