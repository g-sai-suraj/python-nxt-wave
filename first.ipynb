{
 "cells": [
  {
   "cell_type": "code",
   "execution_count": 1,
   "id": "989ba412-2a19-44fd-8ba6-0ee78c3f0914",
   "metadata": {},
   "outputs": [
    {
     "name": "stdout",
     "output_type": "stream",
     "text": [
      "Hello World\n"
     ]
    }
   ],
   "source": [
    "print(\"Hello World\")"
   ]
  },
  {
   "cell_type": "code",
   "execution_count": 2,
   "id": "1361f177-a0f4-4b09-aa26-71ae387cf14a",
   "metadata": {},
   "outputs": [
    {
     "name": "stdout",
     "output_type": "stream",
     "text": [
      "5\n"
     ]
    }
   ],
   "source": [
    "print(2 + 3)"
   ]
  },
  {
   "cell_type": "code",
   "execution_count": 3,
   "id": "2c390819-a8dd-4b40-9588-562856ff7460",
   "metadata": {},
   "outputs": [
    {
     "name": "stdout",
     "output_type": "stream",
     "text": [
      "3.0\n",
      "3\n"
     ]
    }
   ],
   "source": [
    "print(6 / 2)\n",
    "print((int)(6 / 2))"
   ]
  },
  {
   "cell_type": "code",
   "execution_count": 4,
   "id": "bb3a1fa9-8a05-4782-9be7-0dfe064804bb",
   "metadata": {},
   "outputs": [
    {
     "name": "stdout",
     "output_type": "stream",
     "text": [
      "2 + 3 = 5\n"
     ]
    }
   ],
   "source": [
    "print(\"2 + 3 = 5\")"
   ]
  },
  {
   "cell_type": "code",
   "execution_count": 5,
   "id": "8507e626-46e0-4c23-894f-a109c8d0e096",
   "metadata": {},
   "outputs": [
    {
     "name": "stdout",
     "output_type": "stream",
     "text": [
      "Hello World\n",
      " \n",
      "Hello\n"
     ]
    }
   ],
   "source": [
    "print(\"Hello World\")\n",
    "print(\" \")\n",
    "print(\"Hello\")"
   ]
  },
  {
   "cell_type": "code",
   "execution_count": 6,
   "id": "98be6a76-ecf3-4219-ae0f-317b033d5263",
   "metadata": {},
   "outputs": [],
   "source": [
    "#variables and data types"
   ]
  },
  {
   "cell_type": "code",
   "execution_count": 16,
   "id": "72102292-ad0c-4e2d-afaf-62e46faf6766",
   "metadata": {},
   "outputs": [
    {
     "name": "stdout",
     "output_type": "stream",
     "text": [
      "10\n",
      "1.0\n",
      "1.0\n",
      "True\n"
     ]
    }
   ],
   "source": [
    "a = 10\n",
    "b = 1.0\n",
    "c = \"1.0\"\n",
    "d = True\n",
    "print(a)\n",
    "print(b)\n",
    "print(c)\n",
    "print(d)"
   ]
  },
  {
   "cell_type": "code",
   "execution_count": null,
   "id": "5023c0c5-be0f-4f63-814a-f2b111034ec0",
   "metadata": {},
   "outputs": [],
   "source": []
  }
 ],
 "metadata": {
  "kernelspec": {
   "display_name": "Python 3 (ipykernel)",
   "language": "python",
   "name": "python3"
  },
  "language_info": {
   "codemirror_mode": {
    "name": "ipython",
    "version": 3
   },
   "file_extension": ".py",
   "mimetype": "text/x-python",
   "name": "python",
   "nbconvert_exporter": "python",
   "pygments_lexer": "ipython3",
   "version": "3.13.2"
  }
 },
 "nbformat": 4,
 "nbformat_minor": 5
}
