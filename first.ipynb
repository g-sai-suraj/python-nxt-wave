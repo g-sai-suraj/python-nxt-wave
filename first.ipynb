{
 "cells": [
  {
   "cell_type": "code",
   "execution_count": 1,
   "id": "989ba412-2a19-44fd-8ba6-0ee78c3f0914",
   "metadata": {},
   "outputs": [
    {
     "name": "stdout",
     "output_type": "stream",
     "text": [
      "Hello World\n"
     ]
    }
   ],
   "source": [
    "print(\"Hello World\")"
   ]
  },
  {
   "cell_type": "code",
   "execution_count": 2,
   "id": "1361f177-a0f4-4b09-aa26-71ae387cf14a",
   "metadata": {},
   "outputs": [
    {
     "name": "stdout",
     "output_type": "stream",
     "text": [
      "5\n"
     ]
    }
   ],
   "source": [
    "print(2 + 3)"
   ]
  },
  {
   "cell_type": "code",
   "execution_count": 3,
   "id": "2c390819-a8dd-4b40-9588-562856ff7460",
   "metadata": {},
   "outputs": [
    {
     "name": "stdout",
     "output_type": "stream",
     "text": [
      "3.0\n",
      "3\n"
     ]
    }
   ],
   "source": [
    "print(6 / 2)\n",
    "print((int)(6 / 2))"
   ]
  },
  {
   "cell_type": "code",
   "execution_count": 4,
   "id": "bb3a1fa9-8a05-4782-9be7-0dfe064804bb",
   "metadata": {},
   "outputs": [
    {
     "name": "stdout",
     "output_type": "stream",
     "text": [
      "2 + 3 = 5\n"
     ]
    }
   ],
   "source": [
    "print(\"2 + 3 = 5\")"
   ]
  },
  {
   "cell_type": "code",
   "execution_count": 5,
   "id": "8507e626-46e0-4c23-894f-a109c8d0e096",
   "metadata": {},
   "outputs": [
    {
     "name": "stdout",
     "output_type": "stream",
     "text": [
      "Hello World\n",
      " \n",
      "Hello\n"
     ]
    }
   ],
   "source": [
    "print(\"Hello World\")\n",
    "print(\" \")\n",
    "print(\"Hello\")"
   ]
  },
  {
   "cell_type": "code",
   "execution_count": 6,
   "id": "98be6a76-ecf3-4219-ae0f-317b033d5263",
   "metadata": {},
   "outputs": [],
   "source": [
    "#variables and data types"
   ]
  },
  {
   "cell_type": "code",
   "execution_count": 16,
   "id": "72102292-ad0c-4e2d-afaf-62e46faf6766",
   "metadata": {},
   "outputs": [
    {
     "name": "stdout",
     "output_type": "stream",
     "text": [
      "10\n",
      "1.0\n",
      "1.0\n",
      "True\n"
     ]
    }
   ],
   "source": [
    "# Integer\n",
    "# Float\n",
    "# String\n",
    "# Boolean\n",
    "\n",
    "a = 10\n",
    "b = 1.0\n",
    "c = \"1.0\"\n",
    "d = True\n",
    "print(a)\n",
    "print(b)\n",
    "print(c)\n",
    "print(d)"
   ]
  },
  {
   "cell_type": "code",
   "execution_count": null,
   "id": "98533632",
   "metadata": {},
   "outputs": [],
   "source": []
  },
  {
   "cell_type": "code",
   "execution_count": 3,
   "id": "5023c0c5-be0f-4f63-814a-f2b111034ec0",
   "metadata": {},
   "outputs": [
    {
     "name": "stdout",
     "output_type": "stream",
     "text": [
      "10\n",
      "age\n"
     ]
    }
   ],
   "source": [
    "age = 10\n",
    "print(age)\n",
    "############\n",
    "age = 10\n",
    "print(\"age\")\n",
    "###########\n"
   ]
  },
  {
   "cell_type": "code",
   "execution_count": 6,
   "id": "846af08b-cb9d-414c-b8d0-f1972aae7621",
   "metadata": {},
   "outputs": [
    {
     "name": "stdout",
     "output_type": "stream",
     "text": [
      "30\n",
      "30\n"
     ]
    }
   ],
   "source": [
    "print(age)\n",
    "age = 30\n",
    "print(age)"
   ]
  },
  {
   "cell_type": "code",
   "execution_count": 14,
   "id": "eb001a92-e630-454b-9589-dd7a813ed266",
   "metadata": {},
   "outputs": [
    {
     "name": "stdout",
     "output_type": "stream",
     "text": [
      "21\n",
      "20\n"
     ]
    }
   ],
   "source": [
    "a = 10\n",
    "b = 20\n",
    "a = b + 1\n",
    "print(a)\n",
    "print(b)"
   ]
  },
  {
   "cell_type": "code",
   "execution_count": 11,
   "id": "aa9ffb2c-b746-442c-8287-c20e74611771",
   "metadata": {},
   "outputs": [
    {
     "name": "stdout",
     "output_type": "stream",
     "text": [
      "3\n",
      "12\n",
      "Hello  World\n"
     ]
    }
   ],
   "source": [
    "# Strings ( Concatenation )\n",
    "a = 1 + 2\n",
    "print(a)\n",
    "a = \"1\" + \"2\"\n",
    "print(a)\n",
    "a = \"Hello \" + \" \" + \"World\"\n",
    "print(a)"
   ]
  },
  {
   "cell_type": "code",
   "execution_count": 4,
   "id": "d7458545-04b9-42a2-8b0b-eab0d288f6c0",
   "metadata": {},
   "outputs": [],
   "source": [
    "# input statement"
   ]
  },
  {
   "cell_type": "code",
   "execution_count": 21,
   "id": "a144b541-57eb-4bbf-8a67-e19df6cfe4fb",
   "metadata": {},
   "outputs": [
    {
     "name": "stdout",
     "output_type": "stream",
     "text": [
      "name :  suraj\n",
      "age :  22\n"
     ]
    },
    {
     "name": "stdout",
     "output_type": "stream",
     "text": [
      "suraj is 22-years old.\n"
     ]
    }
   ],
   "source": [
    "username = input(\"name : \")\n",
    "age = input(\"age : \")\n",
    "print(f\"{username} is {age}-years old.\")"
   ]
  },
  {
   "cell_type": "code",
   "execution_count": 1,
   "id": "7fe2b705-640b-433a-b275-4f33a8af98c4",
   "metadata": {},
   "outputs": [],
   "source": [
    "# String Indexes "
   ]
  },
  {
   "cell_type": "code",
   "execution_count": 50,
   "id": "6f9fdabd-79f2-46f9-9a88-3da17b905f3a",
   "metadata": {},
   "outputs": [
    {
     "name": "stdout",
     "output_type": "stream",
     "text": [
      "S\n"
     ]
    }
   ],
   "source": [
    "username = \"Suraj\"[0]\n",
    "print(username);\n",
    "# print(username[5])\n",
    "#IndexError: string index out of range"
   ]
  },
  {
   "cell_type": "code",
   "execution_count": 38,
   "id": "0cf305d7-a9b0-484f-9a47-af7531985d2a",
   "metadata": {},
   "outputs": [
    {
     "name": "stdout",
     "output_type": "stream",
     "text": [
      "10 igate\n"
     ]
    }
   ],
   "source": [
    "a = 10\n",
    "b = \"igate\"\n",
    "print(a,b)"
   ]
  },
  {
   "cell_type": "code",
   "execution_count": 1,
   "id": "4bcec475-d06e-47b9-91e6-2aca01e2d190",
   "metadata": {},
   "outputs": [
    {
     "name": "stdout",
     "output_type": "stream",
     "text": [
      "Python is fantatstic\n"
     ]
    }
   ],
   "source": [
    "def myfunc():\n",
    "    global x\n",
    "    x = \"fantatstic\"\n",
    "\n",
    "myfunc()\n",
    "print(\"Python is \"+x)"
   ]
  },
  {
   "cell_type": "code",
   "execution_count": 5,
   "id": "031b2076-6ea5-42c2-b442-4550aae5ac9a",
   "metadata": {},
   "outputs": [
    {
     "name": "stdout",
     "output_type": "stream",
     "text": [
      "How old are you ? ::  22\n"
     ]
    },
    {
     "name": "stdout",
     "output_type": "stream",
     "text": [
      "You are of age!\n",
      "Here's a copy of GTA6 for you.\n",
      "Next customer, please!\n"
     ]
    }
   ],
   "source": [
    "age = int(input(\"How old are you ? :: \"))\n",
    "\n",
    "if age > 17 :\n",
    "    print(\"You are of age!\")\n",
    "    print(\"Here's a copy of GTA6 for you.\")\n",
    "\n",
    "print(\"Next customer, please!\")"
   ]
  },
  {
   "cell_type": "code",
   "execution_count": 15,
   "id": "805b925e-3116-49ec-9a2b-f5370f0f6e98",
   "metadata": {},
   "outputs": [
    {
     "name": "stdout",
     "output_type": "stream",
     "text": [
      "Please type in a temperature(F) :  86.9\n"
     ]
    },
    {
     "name": "stdout",
     "output_type": "stream",
     "text": [
      " 86.9 F to 30 C\n",
      "30 C to 86.0 F\n"
     ]
    }
   ],
   "source": [
    "temp = float(input(\"Please type in a temperature(F) : \"))\n",
    "c = (int)((temp - 32) * 5 / 9)\n",
    "f = (float)((9/5 * c) + 32)\n",
    "print(f\" {temp} F to {c} C\")\n",
    "print(f\"{c} C to {f} F\")"
   ]
  },
  {
   "cell_type": "code",
   "execution_count": 18,
   "id": "0c4586e9-9eb8-464a-9a16-27968ed98f6a",
   "metadata": {},
   "outputs": [
    {
     "name": "stdout",
     "output_type": "stream",
     "text": [
      "Hourly Wage ::  56.6\n",
      "Hours Worked ::  6\n",
      "Day of the week ::  monday\n"
     ]
    },
    {
     "name": "stdout",
     "output_type": "stream",
     "text": [
      "Daily Wage ::  ₹ 339.6 /-\n"
     ]
    }
   ],
   "source": [
    "wage = float(input(\"Hourly Wage :: \"))\n",
    "hrs = int(input(\"Hours Worked :: \"))\n",
    "day = str(input(\"Day of the week :: \"))\n",
    "dwage = wage * hrs\n",
    "print(f\"Daily Wage ::  ₹ {dwage} /-\")"
   ]
  },
  {
   "cell_type": "code",
   "execution_count": 25,
   "id": "6ae418bb-9854-40e4-ab04-e3ac0ebb70bd",
   "metadata": {},
   "outputs": [
    {
     "name": "stdout",
     "output_type": "stream",
     "text": [
      "How many points are on your card ? ::  120\n"
     ]
    },
    {
     "name": "stdout",
     "output_type": "stream",
     "text": [
      "Your bonus is 15 %\n",
      "You now have 138.0 Points\n"
     ]
    }
   ],
   "source": [
    "pts = int(input(\"How many points are on your card ? :: \"))\n",
    "bonus = 0\n",
    "if pts >= 100 :\n",
    "    bonus = 15\n",
    "    pts = pts + pts * bonus/100\n",
    "else:\n",
    "    bonus = 10\n",
    "    pts = pts + pts * bonus/100\n",
    "print(f\"Your bonus is {bonus} %\")\n",
    "print(f\"You now have {pts} Points\")"
   ]
  },
  {
   "cell_type": "code",
   "execution_count": 9,
   "id": "27beef9e-88d0-4dbd-8552-4a15ea94df4c",
   "metadata": {},
   "outputs": [
    {
     "name": "stdout",
     "output_type": "stream",
     "text": [
      "What is the weather forecast for tomorrow ? \n",
      "Make it a warn coat, actually\n",
      "I think gloves are in order\n",
      "Don't forget your umbrella!\n"
     ]
    }
   ],
   "source": [
    "print(\"What is the weather forecast for tomorrow ? \")\n",
    "temp = int(input(\"Temperature :: \"))\n",
    "rain = input(\"Wil it rain (yes/no) :: \")\n",
    "if temp <= 21 and rain == \"no\":\n",
    "    print(\"Wear jeans and a t-shirt\")\n",
    "if temp <= 21 and temp <= 11 and rain == \"no\":\n",
    "    print(\"I recommend a jumper as well\")\n",
    "if temp <= 21 and temp<= 11 and temp <= 7 and rain == \"no\":\n",
    "    print(\"Take a jacket with you\")\n",
    "if temp <= 21 and temp <= 11 and temp <= 7 and  temp <= 3 and rain == \"yes\" or rain == \"no\":\n",
    "    print(\"Make it a warn coat, actually\")\n",
    "    print(\"I think gloves are in order\")\n",
    "    print(\"Don't forget your umbrella!\")"
   ]
  },
  {
   "cell_type": "code",
   "execution_count": 12,
   "id": "f3549241-f85c-4e9c-b1b2-d5c6cbcc4fb8",
   "metadata": {},
   "outputs": [
    {
     "name": "stdout",
     "output_type": "stream",
     "text": [
      "Roots are 2.0 and -4.0\n"
     ]
    }
   ],
   "source": [
    "from math import sqrt\n",
    "a = int(input(\"a :: \"))\n",
    "b = int(input(\"b :: \"))\n",
    "c = int(input(\"c :: \"))\n",
    "d = b**2 - 4*a*c\n",
    "if d < 0:\n",
    "    print(\"No real roots\")\n",
    "else:\n",
    "    r1 = (-b + sqrt(d)) / (2 * a)\n",
    "    r2 = (-b - sqrt(d)) / (2 * a)\n",
    "    print(f\"Roots are {r1} and {r2}\")"
   ]
  }
 ],
 "metadata": {
  "kernelspec": {
   "display_name": "base",
   "language": "python",
   "name": "python3"
  },
  "language_info": {
   "codemirror_mode": {
    "name": "ipython",
    "version": 3
   },
   "file_extension": ".py",
   "mimetype": "text/x-python",
   "name": "python",
   "nbconvert_exporter": "python",
   "pygments_lexer": "ipython3",
   "version": "3.12.7"
  }
 },
 "nbformat": 4,
 "nbformat_minor": 5
}
